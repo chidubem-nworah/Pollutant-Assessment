{
  "cells": [
    {
      "cell_type": "markdown",
      "source": [
        "Setting up hadoop."
      ],
      "metadata": {
        "id": "euo78i5G06cJ"
      }
    },
    {
      "cell_type": "code",
      "execution_count": 1,
      "metadata": {
        "colab": {
          "base_uri": "https://localhost:8080/"
        },
        "id": "a9iUMhMt_QB6",
        "outputId": "123f546f-41d5-4e77-9b96-5774795a44a8"
      },
      "outputs": [
        {
          "output_type": "stream",
          "name": "stdout",
          "text": [
            "--2024-04-13 14:17:04--  https://downloads.apache.org/hadoop/common/hadoop-3.3.6/hadoop-3.3.6.tar.gz\n",
            "Resolving downloads.apache.org (downloads.apache.org)... 88.99.208.237, 135.181.214.104, 2a01:4f8:10a:39da::2, ...\n",
            "Connecting to downloads.apache.org (downloads.apache.org)|88.99.208.237|:443... connected.\n",
            "HTTP request sent, awaiting response... 200 OK\n",
            "Length: 730107476 (696M) [application/x-gzip]\n",
            "Saving to: ‘hadoop-3.3.6.tar.gz’\n",
            "\n",
            "hadoop-3.3.6.tar.gz 100%[===================>] 696.28M  31.6MB/s    in 23s     \n",
            "\n",
            "2024-04-13 14:17:27 (30.4 MB/s) - ‘hadoop-3.3.6.tar.gz’ saved [730107476/730107476]\n",
            "\n"
          ]
        }
      ],
      "source": [
        "!wget https://downloads.apache.org/hadoop/common/hadoop-3.3.6/hadoop-3.3.6.tar.gz"
      ]
    },
    {
      "cell_type": "code",
      "execution_count": 2,
      "metadata": {
        "id": "nMzltbcaAAMK"
      },
      "outputs": [],
      "source": [
        "!tar -xzf hadoop-3.3.6.tar.gz"
      ]
    },
    {
      "cell_type": "code",
      "execution_count": 3,
      "metadata": {
        "id": "Hpi8aBpjASYr"
      },
      "outputs": [],
      "source": [
        "!cp -r hadoop-3.3.6 /usr/local"
      ]
    },
    {
      "cell_type": "code",
      "execution_count": 4,
      "metadata": {
        "colab": {
          "base_uri": "https://localhost:8080/"
        },
        "id": "qowRAG1EAke0",
        "outputId": "20cdf971-895d-42d5-a292-ec8ef6d5675d"
      },
      "outputs": [
        {
          "output_type": "stream",
          "name": "stdout",
          "text": [
            "/usr/lib/jvm/java-11-openjdk-amd64/\n"
          ]
        }
      ],
      "source": [
        "#To find the default Java path\n",
        "!readlink -f /usr/bin/java | sed \"s:bin/java::\""
      ]
    },
    {
      "cell_type": "code",
      "execution_count": 5,
      "metadata": {
        "id": "RiIlQDlsAn4-"
      },
      "outputs": [],
      "source": [
        "import os\n",
        "# BEGIN YOUR CODE HERE\n",
        "\n",
        "os.environ[\"JAVA_HOME\"] = \"/usr/lib/jvm/java-11-openjdk-amd64/\"\n",
        "\n",
        "# END YOUR CODE HERE"
      ]
    },
    {
      "cell_type": "code",
      "execution_count": 6,
      "metadata": {
        "colab": {
          "base_uri": "https://localhost:8080/"
        },
        "id": "sshpCdiSA52X",
        "outputId": "5dceccdb-8b05-486b-9c13-0a776bdc683c"
      },
      "outputs": [
        {
          "output_type": "stream",
          "name": "stdout",
          "text": [
            "/usr/lib/jvm/java-11-openjdk-amd64/\n"
          ]
        }
      ],
      "source": [
        "!echo $JAVA_HOME"
      ]
    },
    {
      "cell_type": "code",
      "execution_count": 7,
      "metadata": {
        "id": "m-2EGRPKBH1F"
      },
      "outputs": [],
      "source": [
        "import os\n",
        "os.environ['PATH'] += ':/usr/local/hadoop-3.3.6/bin'"
      ]
    },
    {
      "cell_type": "code",
      "execution_count": 12,
      "metadata": {
        "colab": {
          "base_uri": "https://localhost:8080/"
        },
        "id": "sVaJEqcSBL2n",
        "outputId": "9c7291b3-ce97-4eb2-b746-19a0b5b53c92"
      },
      "outputs": [
        {
          "output_type": "stream",
          "name": "stdout",
          "text": [
            "/opt/bin:/usr/local/nvidia/bin:/usr/local/cuda/bin:/usr/local/sbin:/usr/local/bin:/usr/sbin:/usr/bin:/sbin:/bin:/tools/node/bin:/tools/google-cloud-sdk/bin:/usr/local/hadoop-3.3.6/bin\n"
          ]
        }
      ],
      "source": [
        "!echo $PATH"
      ]
    },
    {
      "cell_type": "code",
      "execution_count": 15,
      "metadata": {
        "colab": {
          "base_uri": "https://localhost:8080/"
        },
        "id": "YqQHRcanBa-Z",
        "outputId": "946bb34e-895c-4467-ed01-d86ac1f9f494"
      },
      "outputs": [
        {
          "output_type": "stream",
          "name": "stdout",
          "text": [
            "2024-04-13 14:51:04,203 INFO impl.MetricsConfig: Loaded properties from hadoop-metrics2.properties\n",
            "2024-04-13 14:51:04,418 INFO impl.MetricsSystemImpl: Scheduled Metric snapshot period at 10 second(s).\n",
            "2024-04-13 14:51:04,419 INFO impl.MetricsSystemImpl: JobTracker metrics system started\n",
            "2024-04-13 14:51:04,464 WARN impl.MetricsSystemImpl: JobTracker metrics system already initialized!\n",
            "2024-04-13 14:51:04,769 INFO mapred.FileInputFormat: Total input files to process : 1\n",
            "2024-04-13 14:51:04,798 INFO mapreduce.JobSubmitter: number of splits:1\n",
            "2024-04-13 14:51:05,125 INFO mapreduce.JobSubmitter: Submitting tokens for job: job_local2032750557_0001\n",
            "2024-04-13 14:51:05,126 INFO mapreduce.JobSubmitter: Executing with tokens: []\n",
            "2024-04-13 14:51:05,674 INFO mapred.LocalDistributedCacheManager: Localized file:/content/mapper-CS5810_2351044.py as file:/tmp/hadoop-root/mapred/local/job_local2032750557_0001_e2819d77-e0df-4cbe-ab73-edf39ab60fb2/mapper-CS5810_2351044.py\n",
            "2024-04-13 14:51:05,696 INFO mapred.LocalDistributedCacheManager: Localized file:/content/reducer-CS5810_2351044.py as file:/tmp/hadoop-root/mapred/local/job_local2032750557_0001_03c8a3e1-c820-4b09-993b-f5710f2ad2b1/reducer-CS5810_2351044.py\n",
            "2024-04-13 14:51:05,810 INFO mapreduce.Job: The url to track the job: http://localhost:8080/\n",
            "2024-04-13 14:51:05,812 INFO mapreduce.Job: Running job: job_local2032750557_0001\n",
            "2024-04-13 14:51:05,819 INFO mapred.LocalJobRunner: OutputCommitter set in config null\n",
            "2024-04-13 14:51:05,821 INFO mapred.LocalJobRunner: OutputCommitter is org.apache.hadoop.mapred.FileOutputCommitter\n",
            "2024-04-13 14:51:05,829 INFO output.FileOutputCommitter: File Output Committer Algorithm version is 2\n",
            "2024-04-13 14:51:05,829 INFO output.FileOutputCommitter: FileOutputCommitter skip cleanup _temporary folders under output directory:false, ignore cleanup failures: false\n",
            "2024-04-13 14:51:05,884 INFO mapred.LocalJobRunner: Waiting for map tasks\n",
            "2024-04-13 14:51:05,889 INFO mapred.LocalJobRunner: Starting task: attempt_local2032750557_0001_m_000000_0\n",
            "2024-04-13 14:51:05,930 INFO output.FileOutputCommitter: File Output Committer Algorithm version is 2\n",
            "2024-04-13 14:51:05,931 INFO output.FileOutputCommitter: FileOutputCommitter skip cleanup _temporary folders under output directory:false, ignore cleanup failures: false\n",
            "2024-04-13 14:51:05,957 INFO mapred.Task:  Using ResourceCalculatorProcessTree : [ ]\n",
            "2024-04-13 14:51:05,974 INFO mapred.MapTask: Processing split: file:/content/Global_air_pollution_data_cleaned.csv:0+1929459\n",
            "2024-04-13 14:51:05,991 INFO mapred.MapTask: numReduceTasks: 1\n",
            "2024-04-13 14:51:06,177 INFO mapred.MapTask: (EQUATOR) 0 kvi 26214396(104857584)\n",
            "2024-04-13 14:51:06,177 INFO mapred.MapTask: mapreduce.task.io.sort.mb: 100\n",
            "2024-04-13 14:51:06,177 INFO mapred.MapTask: soft limit at 83886080\n",
            "2024-04-13 14:51:06,177 INFO mapred.MapTask: bufstart = 0; bufvoid = 104857600\n",
            "2024-04-13 14:51:06,177 INFO mapred.MapTask: kvstart = 26214396; length = 6553600\n",
            "2024-04-13 14:51:06,180 INFO mapred.MapTask: Map output collector class = org.apache.hadoop.mapred.MapTask$MapOutputBuffer\n",
            "2024-04-13 14:51:06,189 INFO streaming.PipeMapRed: PipeMapRed exec [/usr/local/bin/python, mapper-CS5810_2351044.py]\n",
            "2024-04-13 14:51:06,194 INFO Configuration.deprecation: mapred.work.output.dir is deprecated. Instead, use mapreduce.task.output.dir\n",
            "2024-04-13 14:51:06,196 INFO Configuration.deprecation: mapred.local.dir is deprecated. Instead, use mapreduce.cluster.local.dir\n",
            "2024-04-13 14:51:06,197 INFO Configuration.deprecation: map.input.file is deprecated. Instead, use mapreduce.map.input.file\n",
            "2024-04-13 14:51:06,198 INFO Configuration.deprecation: map.input.length is deprecated. Instead, use mapreduce.map.input.length\n",
            "2024-04-13 14:51:06,199 INFO Configuration.deprecation: mapred.job.id is deprecated. Instead, use mapreduce.job.id\n",
            "2024-04-13 14:51:06,200 INFO Configuration.deprecation: mapred.task.partition is deprecated. Instead, use mapreduce.task.partition\n",
            "2024-04-13 14:51:06,203 INFO Configuration.deprecation: map.input.start is deprecated. Instead, use mapreduce.map.input.start\n",
            "2024-04-13 14:51:06,204 INFO Configuration.deprecation: mapred.task.is.map is deprecated. Instead, use mapreduce.task.ismap\n",
            "2024-04-13 14:51:06,205 INFO Configuration.deprecation: mapred.task.id is deprecated. Instead, use mapreduce.task.attempt.id\n",
            "2024-04-13 14:51:06,206 INFO Configuration.deprecation: mapred.tip.id is deprecated. Instead, use mapreduce.task.id\n",
            "2024-04-13 14:51:06,207 INFO Configuration.deprecation: mapred.skip.on is deprecated. Instead, use mapreduce.job.skiprecords\n",
            "2024-04-13 14:51:06,208 INFO Configuration.deprecation: user.name is deprecated. Instead, use mapreduce.job.user.name\n",
            "2024-04-13 14:51:06,255 INFO streaming.PipeMapRed: R/W/S=1/0/0 in:NA [rec/s] out:NA [rec/s]\n",
            "2024-04-13 14:51:06,256 INFO streaming.PipeMapRed: R/W/S=10/0/0 in:NA [rec/s] out:NA [rec/s]\n",
            "2024-04-13 14:51:06,258 INFO streaming.PipeMapRed: R/W/S=100/0/0 in:NA [rec/s] out:NA [rec/s]\n",
            "2024-04-13 14:51:06,313 INFO streaming.PipeMapRed: R/W/S=1000/0/0 in:NA [rec/s] out:NA [rec/s]\n",
            "2024-04-13 14:51:06,367 INFO streaming.PipeMapRed: Records R/W=1579/1\n",
            "2024-04-13 14:51:06,514 INFO streaming.PipeMapRed: R/W/S=10000/33965/0 in:NA [rec/s] out:NA [rec/s]\n",
            "2024-04-13 14:51:06,727 INFO streaming.PipeMapRed: MRErrorThread done\n",
            "2024-04-13 14:51:06,727 INFO streaming.PipeMapRed: mapRedFinished\n",
            "2024-04-13 14:51:06,732 INFO mapred.LocalJobRunner: \n",
            "2024-04-13 14:51:06,732 INFO mapred.MapTask: Starting flush of map output\n",
            "2024-04-13 14:51:06,732 INFO mapred.MapTask: Spilling map output\n",
            "2024-04-13 14:51:06,732 INFO mapred.MapTask: bufstart = 0; bufend = 1884221; bufvoid = 104857600\n",
            "2024-04-13 14:51:06,732 INFO mapred.MapTask: kvstart = 26214396(104857584); kvend = 25845824(103383296); length = 368573/6553600\n",
            "2024-04-13 14:51:06,817 INFO mapreduce.Job: Job job_local2032750557_0001 running in uber mode : false\n",
            "2024-04-13 14:51:06,818 INFO mapreduce.Job:  map 0% reduce 0%\n",
            "2024-04-13 14:51:07,051 INFO mapred.MapTask: Finished spill 0\n",
            "2024-04-13 14:51:07,074 INFO mapred.Task: Task:attempt_local2032750557_0001_m_000000_0 is done. And is in the process of committing\n",
            "2024-04-13 14:51:07,077 INFO mapred.LocalJobRunner: Records R/W=1579/1\n",
            "2024-04-13 14:51:07,077 INFO mapred.Task: Task 'attempt_local2032750557_0001_m_000000_0' done.\n",
            "2024-04-13 14:51:07,108 INFO mapred.Task: Final Counters for attempt_local2032750557_0001_m_000000_0: Counters: 17\n",
            "\tFile System Counters\n",
            "\t\tFILE: Number of bytes read=2073327\n",
            "\t\tFILE: Number of bytes written=2857024\n",
            "\t\tFILE: Number of read operations=0\n",
            "\t\tFILE: Number of large read operations=0\n",
            "\t\tFILE: Number of write operations=0\n",
            "\tMap-Reduce Framework\n",
            "\t\tMap input records=23037\n",
            "\t\tMap output records=92144\n",
            "\t\tMap output bytes=1884221\n",
            "\t\tMap output materialized bytes=2068515\n",
            "\t\tInput split bytes=103\n",
            "\t\tCombine input records=0\n",
            "\t\tSpilled Records=92144\n",
            "\t\tFailed Shuffles=0\n",
            "\t\tMerged Map outputs=0\n",
            "\t\tGC time elapsed (ms)=0\n",
            "\t\tTotal committed heap usage (bytes)=326107136\n",
            "\tFile Input Format Counters \n",
            "\t\tBytes Read=1929459\n",
            "2024-04-13 14:51:07,109 INFO mapred.LocalJobRunner: Finishing task: attempt_local2032750557_0001_m_000000_0\n",
            "2024-04-13 14:51:07,111 INFO mapred.LocalJobRunner: map task executor complete.\n",
            "2024-04-13 14:51:07,116 INFO mapred.LocalJobRunner: Waiting for reduce tasks\n",
            "2024-04-13 14:51:07,117 INFO mapred.LocalJobRunner: Starting task: attempt_local2032750557_0001_r_000000_0\n",
            "2024-04-13 14:51:07,129 INFO output.FileOutputCommitter: File Output Committer Algorithm version is 2\n",
            "2024-04-13 14:51:07,129 INFO output.FileOutputCommitter: FileOutputCommitter skip cleanup _temporary folders under output directory:false, ignore cleanup failures: false\n",
            "2024-04-13 14:51:07,129 INFO mapred.Task:  Using ResourceCalculatorProcessTree : [ ]\n",
            "2024-04-13 14:51:07,136 INFO mapred.ReduceTask: Using ShuffleConsumerPlugin: org.apache.hadoop.mapreduce.task.reduce.Shuffle@7a9de035\n",
            "2024-04-13 14:51:07,139 WARN impl.MetricsSystemImpl: JobTracker metrics system already initialized!\n",
            "2024-04-13 14:51:07,166 INFO reduce.MergeManagerImpl: MergerManager: memoryLimit=2382574336, maxSingleShuffleLimit=595643584, mergeThreshold=1572499072, ioSortFactor=10, memToMemMergeOutputsThreshold=10\n",
            "2024-04-13 14:51:07,180 INFO reduce.EventFetcher: attempt_local2032750557_0001_r_000000_0 Thread started: EventFetcher for fetching Map Completion Events\n",
            "2024-04-13 14:51:07,219 INFO reduce.LocalFetcher: localfetcher#1 about to shuffle output of map attempt_local2032750557_0001_m_000000_0 decomp: 2068511 len: 2068515 to MEMORY\n",
            "2024-04-13 14:51:07,230 INFO reduce.InMemoryMapOutput: Read 2068511 bytes from map-output for attempt_local2032750557_0001_m_000000_0\n",
            "2024-04-13 14:51:07,232 INFO reduce.MergeManagerImpl: closeInMemoryFile -> map-output of size: 2068511, inMemoryMapOutputs.size() -> 1, commitMemory -> 0, usedMemory ->2068511\n",
            "2024-04-13 14:51:07,236 INFO reduce.EventFetcher: EventFetcher is interrupted.. Returning\n",
            "2024-04-13 14:51:07,237 INFO mapred.LocalJobRunner: 1 / 1 copied.\n",
            "2024-04-13 14:51:07,237 INFO reduce.MergeManagerImpl: finalMerge called with 1 in-memory map-outputs and 0 on-disk map-outputs\n",
            "2024-04-13 14:51:07,244 INFO mapred.Merger: Merging 1 sorted segments\n",
            "2024-04-13 14:51:07,244 INFO mapred.Merger: Down to the last merge-pass, with 1 segments left of total size: 2068495 bytes\n",
            "2024-04-13 14:51:07,378 INFO reduce.MergeManagerImpl: Merged 1 segments, 2068511 bytes to disk to satisfy reduce memory limit\n",
            "2024-04-13 14:51:07,383 INFO reduce.MergeManagerImpl: Merging 1 files, 2068515 bytes from disk\n",
            "2024-04-13 14:51:07,385 INFO reduce.MergeManagerImpl: Merging 0 segments, 0 bytes from memory into reduce\n",
            "2024-04-13 14:51:07,386 INFO mapred.Merger: Merging 1 sorted segments\n",
            "2024-04-13 14:51:07,387 INFO mapred.Merger: Down to the last merge-pass, with 1 segments left of total size: 2068495 bytes\n",
            "2024-04-13 14:51:07,388 INFO mapred.LocalJobRunner: 1 / 1 copied.\n",
            "2024-04-13 14:51:07,400 INFO streaming.PipeMapRed: PipeMapRed exec [/usr/local/bin/python, reducer-CS5810_2351044.py]\n",
            "2024-04-13 14:51:07,405 INFO Configuration.deprecation: mapred.job.tracker is deprecated. Instead, use mapreduce.jobtracker.address\n",
            "2024-04-13 14:51:07,417 INFO Configuration.deprecation: mapred.map.tasks is deprecated. Instead, use mapreduce.job.maps\n",
            "2024-04-13 14:51:07,449 INFO streaming.PipeMapRed: R/W/S=1/0/0 in:NA [rec/s] out:NA [rec/s]\n",
            "2024-04-13 14:51:07,449 INFO streaming.PipeMapRed: R/W/S=10/0/0 in:NA [rec/s] out:NA [rec/s]\n",
            "2024-04-13 14:51:07,450 INFO streaming.PipeMapRed: R/W/S=100/0/0 in:NA [rec/s] out:NA [rec/s]\n",
            "2024-04-13 14:51:07,459 INFO streaming.PipeMapRed: R/W/S=1000/0/0 in:NA [rec/s] out:NA [rec/s]\n",
            "2024-04-13 14:51:07,567 INFO streaming.PipeMapRed: R/W/S=10000/0/0 in:NA [rec/s] out:NA [rec/s]\n",
            "2024-04-13 14:51:07,822 INFO mapreduce.Job:  map 100% reduce 0%\n",
            "2024-04-13 14:51:07,918 INFO streaming.PipeMapRed: Records R/W=92144/1\n",
            "2024-04-13 14:51:07,924 INFO streaming.PipeMapRed: MRErrorThread done\n",
            "2024-04-13 14:51:07,924 INFO streaming.PipeMapRed: mapRedFinished\n",
            "2024-04-13 14:51:07,926 INFO mapred.Task: Task:attempt_local2032750557_0001_r_000000_0 is done. And is in the process of committing\n",
            "2024-04-13 14:51:07,928 INFO mapred.LocalJobRunner: 1 / 1 copied.\n",
            "2024-04-13 14:51:07,928 INFO mapred.Task: Task attempt_local2032750557_0001_r_000000_0 is allowed to commit now\n",
            "2024-04-13 14:51:07,930 INFO output.FileOutputCommitter: Saved output of task 'attempt_local2032750557_0001_r_000000_0' to file:/content/output/CS5810-result_8\n",
            "2024-04-13 14:51:07,931 INFO mapred.LocalJobRunner: Records R/W=92144/1 > reduce\n",
            "2024-04-13 14:51:07,931 INFO mapred.Task: Task 'attempt_local2032750557_0001_r_000000_0' done.\n",
            "2024-04-13 14:51:07,932 INFO mapred.Task: Final Counters for attempt_local2032750557_0001_r_000000_0: Counters: 24\n",
            "\tFile System Counters\n",
            "\t\tFILE: Number of bytes read=6210389\n",
            "\t\tFILE: Number of bytes written=4928952\n",
            "\t\tFILE: Number of read operations=0\n",
            "\t\tFILE: Number of large read operations=0\n",
            "\t\tFILE: Number of write operations=0\n",
            "\tMap-Reduce Framework\n",
            "\t\tCombine input records=0\n",
            "\t\tCombine output records=0\n",
            "\t\tReduce input groups=175\n",
            "\t\tReduce shuffle bytes=2068515\n",
            "\t\tReduce input records=92144\n",
            "\t\tReduce output records=175\n",
            "\t\tSpilled Records=92144\n",
            "\t\tShuffled Maps =1\n",
            "\t\tFailed Shuffles=0\n",
            "\t\tMerged Map outputs=1\n",
            "\t\tGC time elapsed (ms)=0\n",
            "\t\tTotal committed heap usage (bytes)=326107136\n",
            "\tShuffle Errors\n",
            "\t\tBAD_ID=0\n",
            "\t\tCONNECTION=0\n",
            "\t\tIO_ERROR=0\n",
            "\t\tWRONG_LENGTH=0\n",
            "\t\tWRONG_MAP=0\n",
            "\t\tWRONG_REDUCE=0\n",
            "\tFile Output Format Counters \n",
            "\t\tBytes Written=3413\n",
            "2024-04-13 14:51:07,932 INFO mapred.LocalJobRunner: Finishing task: attempt_local2032750557_0001_r_000000_0\n",
            "2024-04-13 14:51:07,932 INFO mapred.LocalJobRunner: reduce task executor complete.\n",
            "2024-04-13 14:51:08,822 INFO mapreduce.Job:  map 100% reduce 100%\n",
            "2024-04-13 14:51:08,823 INFO mapreduce.Job: Job job_local2032750557_0001 completed successfully\n",
            "2024-04-13 14:51:08,833 INFO mapreduce.Job: Counters: 30\n",
            "\tFile System Counters\n",
            "\t\tFILE: Number of bytes read=8283716\n",
            "\t\tFILE: Number of bytes written=7785976\n",
            "\t\tFILE: Number of read operations=0\n",
            "\t\tFILE: Number of large read operations=0\n",
            "\t\tFILE: Number of write operations=0\n",
            "\tMap-Reduce Framework\n",
            "\t\tMap input records=23037\n",
            "\t\tMap output records=92144\n",
            "\t\tMap output bytes=1884221\n",
            "\t\tMap output materialized bytes=2068515\n",
            "\t\tInput split bytes=103\n",
            "\t\tCombine input records=0\n",
            "\t\tCombine output records=0\n",
            "\t\tReduce input groups=175\n",
            "\t\tReduce shuffle bytes=2068515\n",
            "\t\tReduce input records=92144\n",
            "\t\tReduce output records=175\n",
            "\t\tSpilled Records=184288\n",
            "\t\tShuffled Maps =1\n",
            "\t\tFailed Shuffles=0\n",
            "\t\tMerged Map outputs=1\n",
            "\t\tGC time elapsed (ms)=0\n",
            "\t\tTotal committed heap usage (bytes)=652214272\n",
            "\tShuffle Errors\n",
            "\t\tBAD_ID=0\n",
            "\t\tCONNECTION=0\n",
            "\t\tIO_ERROR=0\n",
            "\t\tWRONG_LENGTH=0\n",
            "\t\tWRONG_MAP=0\n",
            "\t\tWRONG_REDUCE=0\n",
            "\tFile Input Format Counters \n",
            "\t\tBytes Read=1929459\n",
            "\tFile Output Format Counters \n",
            "\t\tBytes Written=3413\n",
            "2024-04-13 14:51:08,834 INFO streaming.StreamJob: Output directory: /content/output/CS5810-result_8\n"
          ]
        }
      ],
      "source": [
        "!hadoop jar /usr/local/hadoop-3.3.6/share/hadoop/tools/lib/hadoop-streaming-3.3.6.jar  -files /content/mapper-CS5810_2351044.py,/content/reducer-CS5810_2351044.py -input /content/Global_air_pollution_data_cleaned.csv -output /content/output/CS5810-result -mapper 'python mapper-CS5810_2351044.py'  -reducer 'python reducer-CS5810_2351044.py'\n",
        "\n"
      ]
    },
    {
      "cell_type": "code",
      "source": [
        "!rm -r output\n"
      ],
      "metadata": {
        "id": "HLkJCYqTIyjh"
      },
      "execution_count": 16,
      "outputs": []
    }
  ],
  "metadata": {
    "colab": {
      "provenance": []
    },
    "kernelspec": {
      "display_name": "Python 3",
      "name": "python3"
    },
    "language_info": {
      "name": "python"
    }
  },
  "nbformat": 4,
  "nbformat_minor": 0
}